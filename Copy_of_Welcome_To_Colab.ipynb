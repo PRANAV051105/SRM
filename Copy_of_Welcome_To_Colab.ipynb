{
  "cells": [
    {
      "cell_type": "markdown",
      "metadata": {
        "id": "view-in-github",
        "colab_type": "text"
      },
      "source": [
        "<a href=\"https://colab.research.google.com/github/PRANAV051105/SRM/blob/main/Copy_of_Welcome_To_Colab.ipynb\" target=\"_parent\"><img src=\"https://colab.research.google.com/assets/colab-badge.svg\" alt=\"Open In Colab\"/></a>"
      ]
    },
    {
      "cell_type": "code",
      "source": [
        "import pandas as pd\n",
        "df=pd.read_csv(\"FuelConsumption (2).csv\")\n",
        "print(df.head())\n"
      ],
      "metadata": {
        "id": "ZaUR_fbUMopL",
        "colab": {
          "base_uri": "https://localhost:8080/"
        },
        "outputId": "154d1492-5f2e-433c-869f-e352c30018de"
      },
      "execution_count": 1,
      "outputs": [
        {
          "output_type": "stream",
          "name": "stdout",
          "text": [
            "   MODELYEAR   MAKE       MODEL VEHICLECLASS  ENGINESIZE  CYLINDERS  \\\n",
            "0       2014  ACURA         ILX      COMPACT         2.0          4   \n",
            "1       2014  ACURA         ILX      COMPACT         2.4          4   \n",
            "2       2014  ACURA  ILX HYBRID      COMPACT         1.5          4   \n",
            "3       2014  ACURA     MDX 4WD  SUV - SMALL         3.5          6   \n",
            "4       2014  ACURA     RDX AWD  SUV - SMALL         3.5          6   \n",
            "\n",
            "  TRANSMISSION FUELTYPE  FUELCONSUMPTION_CITY  FUELCONSUMPTION_HWY  \\\n",
            "0          AS5        Z                   9.9                  6.7   \n",
            "1           M6        Z                  11.2                  7.7   \n",
            "2          AV7        Z                   6.0                  5.8   \n",
            "3          AS6        Z                  12.7                  9.1   \n",
            "4          AS6        Z                  12.1                  8.7   \n",
            "\n",
            "   FUELCONSUMPTION_COMB  FUELCONSUMPTION_COMB_MPG  CO2EMISSIONS  \n",
            "0                   8.5                        33           196  \n",
            "1                   9.6                        29           221  \n",
            "2                   5.9                        48           136  \n",
            "3                  11.1                        25           255  \n",
            "4                  10.6                        27           244  \n"
          ]
        }
      ]
    },
    {
      "cell_type": "code",
      "source": [
        "print(df)"
      ],
      "metadata": {
        "colab": {
          "base_uri": "https://localhost:8080/"
        },
        "id": "XIGR9N5ZIxty",
        "outputId": "a4cbb3da-b7c5-4a96-dd8f-e4da614cfb7c"
      },
      "execution_count": 18,
      "outputs": [
        {
          "output_type": "stream",
          "name": "stdout",
          "text": [
            "      MODELYEAR   MAKE       MODEL    VEHICLECLASS  ENGINESIZE  CYLINDERS  \\\n",
            "0          2014  ACURA         ILX         COMPACT         2.0          4   \n",
            "1          2014  ACURA         ILX         COMPACT         2.4          4   \n",
            "2          2014  ACURA  ILX HYBRID         COMPACT         1.5          4   \n",
            "3          2014  ACURA     MDX 4WD     SUV - SMALL         3.5          6   \n",
            "4          2014  ACURA     RDX AWD     SUV - SMALL         3.5          6   \n",
            "...         ...    ...         ...             ...         ...        ...   \n",
            "1062       2014  VOLVO    XC60 AWD     SUV - SMALL         3.0          6   \n",
            "1063       2014  VOLVO    XC60 AWD     SUV - SMALL         3.2          6   \n",
            "1064       2014  VOLVO    XC70 AWD     SUV - SMALL         3.0          6   \n",
            "1065       2014  VOLVO    XC70 AWD     SUV - SMALL         3.2          6   \n",
            "1066       2014  VOLVO    XC90 AWD  SUV - STANDARD         3.2          6   \n",
            "\n",
            "     TRANSMISSION FUELTYPE  FUELCONSUMPTION_CITY  FUELCONSUMPTION_HWY  \\\n",
            "0             AS5        Z                   9.9                  6.7   \n",
            "1              M6        Z                  11.2                  7.7   \n",
            "2             AV7        Z                   6.0                  5.8   \n",
            "3             AS6        Z                  12.7                  9.1   \n",
            "4             AS6        Z                  12.1                  8.7   \n",
            "...           ...      ...                   ...                  ...   \n",
            "1062          AS6        X                  13.4                  9.8   \n",
            "1063          AS6        X                  13.2                  9.5   \n",
            "1064          AS6        X                  13.4                  9.8   \n",
            "1065          AS6        X                  12.9                  9.3   \n",
            "1066          AS6        X                  14.9                 10.2   \n",
            "\n",
            "      FUELCONSUMPTION_COMB  FUELCONSUMPTION_COMB_MPG  CO2EMISSIONS  \n",
            "0                      8.5                        33           196  \n",
            "1                      9.6                        29           221  \n",
            "2                      5.9                        48           136  \n",
            "3                     11.1                        25           255  \n",
            "4                     10.6                        27           244  \n",
            "...                    ...                       ...           ...  \n",
            "1062                  11.8                        24           271  \n",
            "1063                  11.5                        25           264  \n",
            "1064                  11.8                        24           271  \n",
            "1065                  11.3                        25           260  \n",
            "1066                  12.8                        22           294  \n",
            "\n",
            "[1067 rows x 13 columns]\n"
          ]
        }
      ]
    },
    {
      "cell_type": "code",
      "source": [
        "print(df.isnull().sum())"
      ],
      "metadata": {
        "colab": {
          "base_uri": "https://localhost:8080/"
        },
        "id": "dOTeqwMhH9VW",
        "outputId": "3c3552cc-1f1e-4bd9-fae9-00fc4bb57bdb"
      },
      "execution_count": 9,
      "outputs": [
        {
          "output_type": "stream",
          "name": "stdout",
          "text": [
            "MODELYEAR                   0\n",
            "MAKE                        0\n",
            "MODEL                       0\n",
            "VEHICLECLASS                0\n",
            "ENGINESIZE                  0\n",
            "CYLINDERS                   0\n",
            "TRANSMISSION                0\n",
            "FUELTYPE                    0\n",
            "FUELCONSUMPTION_CITY        0\n",
            "FUELCONSUMPTION_HWY         0\n",
            "FUELCONSUMPTION_COMB        0\n",
            "FUELCONSUMPTION_COMB_MPG    0\n",
            "CO2EMISSIONS                0\n",
            "dtype: int64\n"
          ]
        }
      ]
    },
    {
      "cell_type": "code",
      "source": [
        "print(df.shape)"
      ],
      "metadata": {
        "colab": {
          "base_uri": "https://localhost:8080/"
        },
        "id": "2axkyyLlIDK2",
        "outputId": "bb092a9a-81ae-49da-db4e-1bc8788466a6"
      },
      "execution_count": 13,
      "outputs": [
        {
          "output_type": "stream",
          "name": "stdout",
          "text": [
            "(1067, 13)\n"
          ]
        }
      ]
    },
    {
      "cell_type": "code",
      "source": [
        "print(df.head())"
      ],
      "metadata": {
        "colab": {
          "base_uri": "https://localhost:8080/"
        },
        "id": "h__s8BrZIPDY",
        "outputId": "e69af3b4-bec4-431c-89c0-5f1171277e2d"
      },
      "execution_count": 14,
      "outputs": [
        {
          "output_type": "stream",
          "name": "stdout",
          "text": [
            "   MODELYEAR   MAKE       MODEL VEHICLECLASS  ENGINESIZE  CYLINDERS  \\\n",
            "0       2014  ACURA         ILX      COMPACT         2.0          4   \n",
            "1       2014  ACURA         ILX      COMPACT         2.4          4   \n",
            "2       2014  ACURA  ILX HYBRID      COMPACT         1.5          4   \n",
            "3       2014  ACURA     MDX 4WD  SUV - SMALL         3.5          6   \n",
            "4       2014  ACURA     RDX AWD  SUV - SMALL         3.5          6   \n",
            "\n",
            "  TRANSMISSION FUELTYPE  FUELCONSUMPTION_CITY  FUELCONSUMPTION_HWY  \\\n",
            "0          AS5        Z                   9.9                  6.7   \n",
            "1           M6        Z                  11.2                  7.7   \n",
            "2          AV7        Z                   6.0                  5.8   \n",
            "3          AS6        Z                  12.7                  9.1   \n",
            "4          AS6        Z                  12.1                  8.7   \n",
            "\n",
            "   FUELCONSUMPTION_COMB  FUELCONSUMPTION_COMB_MPG  CO2EMISSIONS  \n",
            "0                   8.5                        33           196  \n",
            "1                   9.6                        29           221  \n",
            "2                   5.9                        48           136  \n",
            "3                  11.1                        25           255  \n",
            "4                  10.6                        27           244  \n"
          ]
        }
      ]
    },
    {
      "cell_type": "code",
      "source": [
        "print(df.describe())"
      ],
      "metadata": {
        "colab": {
          "base_uri": "https://localhost:8080/"
        },
        "id": "ArJuAV11IVVZ",
        "outputId": "948ec368-3c99-4405-db65-67e83d267aa9"
      },
      "execution_count": 15,
      "outputs": [
        {
          "output_type": "stream",
          "name": "stdout",
          "text": [
            "       MODELYEAR   ENGINESIZE    CYLINDERS  FUELCONSUMPTION_CITY  \\\n",
            "count     1067.0  1067.000000  1067.000000           1067.000000   \n",
            "mean      2014.0     3.346298     5.794752             13.296532   \n",
            "std          0.0     1.415895     1.797447              4.101253   \n",
            "min       2014.0     1.000000     3.000000              4.600000   \n",
            "25%       2014.0     2.000000     4.000000             10.250000   \n",
            "50%       2014.0     3.400000     6.000000             12.600000   \n",
            "75%       2014.0     4.300000     8.000000             15.550000   \n",
            "max       2014.0     8.400000    12.000000             30.200000   \n",
            "\n",
            "       FUELCONSUMPTION_HWY  FUELCONSUMPTION_COMB  FUELCONSUMPTION_COMB_MPG  \\\n",
            "count          1067.000000           1067.000000               1067.000000   \n",
            "mean              9.474602             11.580881                 26.441425   \n",
            "std               2.794510              3.485595                  7.468702   \n",
            "min               4.900000              4.700000                 11.000000   \n",
            "25%               7.500000              9.000000                 21.000000   \n",
            "50%               8.800000             10.900000                 26.000000   \n",
            "75%              10.850000             13.350000                 31.000000   \n",
            "max              20.500000             25.800000                 60.000000   \n",
            "\n",
            "       CO2EMISSIONS  \n",
            "count   1067.000000  \n",
            "mean     256.228679  \n",
            "std       63.372304  \n",
            "min      108.000000  \n",
            "25%      207.000000  \n",
            "50%      251.000000  \n",
            "75%      294.000000  \n",
            "max      488.000000  \n"
          ]
        }
      ]
    },
    {
      "cell_type": "code",
      "source": [
        "print(df.max())"
      ],
      "metadata": {
        "colab": {
          "base_uri": "https://localhost:8080/"
        },
        "id": "PlGBH74dIk_C",
        "outputId": "6f0d956a-3682-427a-8f7d-ba8352fd9302"
      },
      "execution_count": 17,
      "outputs": [
        {
          "output_type": "stream",
          "name": "stdout",
          "text": [
            "MODELYEAR                              2014\n",
            "MAKE                                  VOLVO\n",
            "MODEL                                    xD\n",
            "VEHICLECLASS                VAN - PASSENGER\n",
            "ENGINESIZE                              8.4\n",
            "CYLINDERS                                12\n",
            "TRANSMISSION                             M7\n",
            "FUELTYPE                                  Z\n",
            "FUELCONSUMPTION_CITY                   30.2\n",
            "FUELCONSUMPTION_HWY                    20.5\n",
            "FUELCONSUMPTION_COMB                   25.8\n",
            "FUELCONSUMPTION_COMB_MPG                 60\n",
            "CO2EMISSIONS                            488\n",
            "dtype: object\n"
          ]
        }
      ]
    },
    {
      "cell_type": "code",
      "source": [
        "print(df.tail())"
      ],
      "metadata": {
        "colab": {
          "base_uri": "https://localhost:8080/"
        },
        "id": "Q4DR8RY3Ix1i",
        "outputId": "51e5feb2-6b1c-499b-b0fd-228c2fa248ae"
      },
      "execution_count": 19,
      "outputs": [
        {
          "output_type": "stream",
          "name": "stdout",
          "text": [
            "      MODELYEAR   MAKE     MODEL    VEHICLECLASS  ENGINESIZE  CYLINDERS  \\\n",
            "1062       2014  VOLVO  XC60 AWD     SUV - SMALL         3.0          6   \n",
            "1063       2014  VOLVO  XC60 AWD     SUV - SMALL         3.2          6   \n",
            "1064       2014  VOLVO  XC70 AWD     SUV - SMALL         3.0          6   \n",
            "1065       2014  VOLVO  XC70 AWD     SUV - SMALL         3.2          6   \n",
            "1066       2014  VOLVO  XC90 AWD  SUV - STANDARD         3.2          6   \n",
            "\n",
            "     TRANSMISSION FUELTYPE  FUELCONSUMPTION_CITY  FUELCONSUMPTION_HWY  \\\n",
            "1062          AS6        X                  13.4                  9.8   \n",
            "1063          AS6        X                  13.2                  9.5   \n",
            "1064          AS6        X                  13.4                  9.8   \n",
            "1065          AS6        X                  12.9                  9.3   \n",
            "1066          AS6        X                  14.9                 10.2   \n",
            "\n",
            "      FUELCONSUMPTION_COMB  FUELCONSUMPTION_COMB_MPG  CO2EMISSIONS  \n",
            "1062                  11.8                        24           271  \n",
            "1063                  11.5                        25           264  \n",
            "1064                  11.8                        24           271  \n",
            "1065                  11.3                        25           260  \n",
            "1066                  12.8                        22           294  \n"
          ]
        }
      ]
    },
    {
      "cell_type": "code",
      "source": [
        "print(df.columns.tolist())"
      ],
      "metadata": {
        "colab": {
          "base_uri": "https://localhost:8080/"
        },
        "id": "3sFJn1t_JHqH",
        "outputId": "9c4fb2aa-8ec9-4d14-ac56-ad64c56877bd"
      },
      "execution_count": 22,
      "outputs": [
        {
          "output_type": "stream",
          "name": "stdout",
          "text": [
            "['MODELYEAR', 'MAKE', 'MODEL', 'VEHICLECLASS', 'ENGINESIZE', 'CYLINDERS', 'TRANSMISSION', 'FUELTYPE', 'FUELCONSUMPTION_CITY', 'FUELCONSUMPTION_HWY', 'FUELCONSUMPTION_COMB', 'FUELCONSUMPTION_COMB_MPG', 'CO2EMISSIONS']\n"
          ]
        }
      ]
    },
    {
      "cell_type": "code",
      "source": [
        "print(df.dtypes)"
      ],
      "metadata": {
        "colab": {
          "base_uri": "https://localhost:8080/"
        },
        "id": "FZLgtp3VJZYF",
        "outputId": "315fb7e3-75a4-4f17-87e5-1a718748e273"
      },
      "execution_count": 25,
      "outputs": [
        {
          "output_type": "stream",
          "name": "stdout",
          "text": [
            "MODELYEAR                     int64\n",
            "MAKE                         object\n",
            "MODEL                        object\n",
            "VEHICLECLASS                 object\n",
            "ENGINESIZE                  float64\n",
            "CYLINDERS                     int64\n",
            "TRANSMISSION                 object\n",
            "FUELTYPE                     object\n",
            "FUELCONSUMPTION_CITY        float64\n",
            "FUELCONSUMPTION_HWY         float64\n",
            "FUELCONSUMPTION_COMB        float64\n",
            "FUELCONSUMPTION_COMB_MPG      int64\n",
            "CO2EMISSIONS                  int64\n",
            "dtype: object\n"
          ]
        }
      ]
    },
    {
      "cell_type": "code",
      "source": [
        "print(df.isnull().sum())"
      ],
      "metadata": {
        "colab": {
          "base_uri": "https://localhost:8080/"
        },
        "id": "e3zgmDUiJhV9",
        "outputId": "16b57c5b-0c1a-4c16-e5dd-517fc2bc3b04"
      },
      "execution_count": 26,
      "outputs": [
        {
          "output_type": "stream",
          "name": "stdout",
          "text": [
            "MODELYEAR                   0\n",
            "MAKE                        0\n",
            "MODEL                       0\n",
            "VEHICLECLASS                0\n",
            "ENGINESIZE                  0\n",
            "CYLINDERS                   0\n",
            "TRANSMISSION                0\n",
            "FUELTYPE                    0\n",
            "FUELCONSUMPTION_CITY        0\n",
            "FUELCONSUMPTION_HWY         0\n",
            "FUELCONSUMPTION_COMB        0\n",
            "FUELCONSUMPTION_COMB_MPG    0\n",
            "CO2EMISSIONS                0\n",
            "dtype: int64\n"
          ]
        }
      ]
    },
    {
      "cell_type": "code",
      "source": [
        "df_ffill=df.copy()\n",
        "df_ffill['FUELCOMSUMPTION_CITY']=df_ffill['FUELCONSUMPTION_CITY'].fillna(method='ffill')\n",
        "df_ffill.isnull().sum()\n"
      ],
      "metadata": {
        "colab": {
          "base_uri": "https://localhost:8080/",
          "height": 579
        },
        "id": "JiiplXCWJqDx",
        "outputId": "cb562a0a-f2ae-4b14-85d8-fe967542871a"
      },
      "execution_count": 34,
      "outputs": [
        {
          "output_type": "stream",
          "name": "stderr",
          "text": [
            "/tmp/ipython-input-3317416458.py:2: FutureWarning: Series.fillna with 'method' is deprecated and will raise in a future version. Use obj.ffill() or obj.bfill() instead.\n",
            "  df_ffill['FUELCOMSUMPTION_CITY']=df_ffill['FUELCONSUMPTION_CITY'].fillna(method='ffill')\n"
          ]
        },
        {
          "output_type": "execute_result",
          "data": {
            "text/plain": [
              "MODELYEAR                   0\n",
              "MAKE                        0\n",
              "MODEL                       0\n",
              "VEHICLECLASS                0\n",
              "ENGINESIZE                  0\n",
              "CYLINDERS                   0\n",
              "TRANSMISSION                0\n",
              "FUELTYPE                    0\n",
              "FUELCONSUMPTION_CITY        0\n",
              "FUELCONSUMPTION_HWY         0\n",
              "FUELCONSUMPTION_COMB        0\n",
              "FUELCONSUMPTION_COMB_MPG    0\n",
              "CO2EMISSIONS                0\n",
              "FUELCOMSUMPTION_CITY        0\n",
              "dtype: int64"
            ],
            "text/html": [
              "<div>\n",
              "<style scoped>\n",
              "    .dataframe tbody tr th:only-of-type {\n",
              "        vertical-align: middle;\n",
              "    }\n",
              "\n",
              "    .dataframe tbody tr th {\n",
              "        vertical-align: top;\n",
              "    }\n",
              "\n",
              "    .dataframe thead th {\n",
              "        text-align: right;\n",
              "    }\n",
              "</style>\n",
              "<table border=\"1\" class=\"dataframe\">\n",
              "  <thead>\n",
              "    <tr style=\"text-align: right;\">\n",
              "      <th></th>\n",
              "      <th>0</th>\n",
              "    </tr>\n",
              "  </thead>\n",
              "  <tbody>\n",
              "    <tr>\n",
              "      <th>MODELYEAR</th>\n",
              "      <td>0</td>\n",
              "    </tr>\n",
              "    <tr>\n",
              "      <th>MAKE</th>\n",
              "      <td>0</td>\n",
              "    </tr>\n",
              "    <tr>\n",
              "      <th>MODEL</th>\n",
              "      <td>0</td>\n",
              "    </tr>\n",
              "    <tr>\n",
              "      <th>VEHICLECLASS</th>\n",
              "      <td>0</td>\n",
              "    </tr>\n",
              "    <tr>\n",
              "      <th>ENGINESIZE</th>\n",
              "      <td>0</td>\n",
              "    </tr>\n",
              "    <tr>\n",
              "      <th>CYLINDERS</th>\n",
              "      <td>0</td>\n",
              "    </tr>\n",
              "    <tr>\n",
              "      <th>TRANSMISSION</th>\n",
              "      <td>0</td>\n",
              "    </tr>\n",
              "    <tr>\n",
              "      <th>FUELTYPE</th>\n",
              "      <td>0</td>\n",
              "    </tr>\n",
              "    <tr>\n",
              "      <th>FUELCONSUMPTION_CITY</th>\n",
              "      <td>0</td>\n",
              "    </tr>\n",
              "    <tr>\n",
              "      <th>FUELCONSUMPTION_HWY</th>\n",
              "      <td>0</td>\n",
              "    </tr>\n",
              "    <tr>\n",
              "      <th>FUELCONSUMPTION_COMB</th>\n",
              "      <td>0</td>\n",
              "    </tr>\n",
              "    <tr>\n",
              "      <th>FUELCONSUMPTION_COMB_MPG</th>\n",
              "      <td>0</td>\n",
              "    </tr>\n",
              "    <tr>\n",
              "      <th>CO2EMISSIONS</th>\n",
              "      <td>0</td>\n",
              "    </tr>\n",
              "    <tr>\n",
              "      <th>FUELCOMSUMPTION_CITY</th>\n",
              "      <td>0</td>\n",
              "    </tr>\n",
              "  </tbody>\n",
              "</table>\n",
              "</div><br><label><b>dtype:</b> int64</label>"
            ]
          },
          "metadata": {},
          "execution_count": 34
        }
      ]
    },
    {
      "cell_type": "code",
      "source": [
        "df_bfill=df.copy()\n",
        "df_bfill['FUELCONSUMPTION_CITY']=df_bfill['FUELCONSUMPTION_CITY'].fillna(method='bfill')\n",
        "df_bfill.isnull().sum()"
      ],
      "metadata": {
        "colab": {
          "base_uri": "https://localhost:8080/",
          "height": 548
        },
        "id": "G0dRYvMILcYS",
        "outputId": "4a971a31-a899-495b-f396-c433fd5001dd"
      },
      "execution_count": 35,
      "outputs": [
        {
          "output_type": "stream",
          "name": "stderr",
          "text": [
            "/tmp/ipython-input-4016096267.py:2: FutureWarning: Series.fillna with 'method' is deprecated and will raise in a future version. Use obj.ffill() or obj.bfill() instead.\n",
            "  df_bfill['FUELCONSUMPTION_CITY']=df_bfill['FUELCONSUMPTION_CITY'].fillna(method='bfill')\n"
          ]
        },
        {
          "output_type": "execute_result",
          "data": {
            "text/plain": [
              "MODELYEAR                   0\n",
              "MAKE                        0\n",
              "MODEL                       0\n",
              "VEHICLECLASS                0\n",
              "ENGINESIZE                  0\n",
              "CYLINDERS                   0\n",
              "TRANSMISSION                0\n",
              "FUELTYPE                    0\n",
              "FUELCONSUMPTION_CITY        0\n",
              "FUELCONSUMPTION_HWY         0\n",
              "FUELCONSUMPTION_COMB        0\n",
              "FUELCONSUMPTION_COMB_MPG    0\n",
              "CO2EMISSIONS                0\n",
              "dtype: int64"
            ],
            "text/html": [
              "<div>\n",
              "<style scoped>\n",
              "    .dataframe tbody tr th:only-of-type {\n",
              "        vertical-align: middle;\n",
              "    }\n",
              "\n",
              "    .dataframe tbody tr th {\n",
              "        vertical-align: top;\n",
              "    }\n",
              "\n",
              "    .dataframe thead th {\n",
              "        text-align: right;\n",
              "    }\n",
              "</style>\n",
              "<table border=\"1\" class=\"dataframe\">\n",
              "  <thead>\n",
              "    <tr style=\"text-align: right;\">\n",
              "      <th></th>\n",
              "      <th>0</th>\n",
              "    </tr>\n",
              "  </thead>\n",
              "  <tbody>\n",
              "    <tr>\n",
              "      <th>MODELYEAR</th>\n",
              "      <td>0</td>\n",
              "    </tr>\n",
              "    <tr>\n",
              "      <th>MAKE</th>\n",
              "      <td>0</td>\n",
              "    </tr>\n",
              "    <tr>\n",
              "      <th>MODEL</th>\n",
              "      <td>0</td>\n",
              "    </tr>\n",
              "    <tr>\n",
              "      <th>VEHICLECLASS</th>\n",
              "      <td>0</td>\n",
              "    </tr>\n",
              "    <tr>\n",
              "      <th>ENGINESIZE</th>\n",
              "      <td>0</td>\n",
              "    </tr>\n",
              "    <tr>\n",
              "      <th>CYLINDERS</th>\n",
              "      <td>0</td>\n",
              "    </tr>\n",
              "    <tr>\n",
              "      <th>TRANSMISSION</th>\n",
              "      <td>0</td>\n",
              "    </tr>\n",
              "    <tr>\n",
              "      <th>FUELTYPE</th>\n",
              "      <td>0</td>\n",
              "    </tr>\n",
              "    <tr>\n",
              "      <th>FUELCONSUMPTION_CITY</th>\n",
              "      <td>0</td>\n",
              "    </tr>\n",
              "    <tr>\n",
              "      <th>FUELCONSUMPTION_HWY</th>\n",
              "      <td>0</td>\n",
              "    </tr>\n",
              "    <tr>\n",
              "      <th>FUELCONSUMPTION_COMB</th>\n",
              "      <td>0</td>\n",
              "    </tr>\n",
              "    <tr>\n",
              "      <th>FUELCONSUMPTION_COMB_MPG</th>\n",
              "      <td>0</td>\n",
              "    </tr>\n",
              "    <tr>\n",
              "      <th>CO2EMISSIONS</th>\n",
              "      <td>0</td>\n",
              "    </tr>\n",
              "  </tbody>\n",
              "</table>\n",
              "</div><br><label><b>dtype:</b> int64</label>"
            ]
          },
          "metadata": {},
          "execution_count": 35
        }
      ]
    }
  ],
  "metadata": {
    "colab": {
      "provenance": [],
      "include_colab_link": true
    },
    "kernelspec": {
      "display_name": "Python 3",
      "name": "python3"
    }
  },
  "nbformat": 4,
  "nbformat_minor": 0
}