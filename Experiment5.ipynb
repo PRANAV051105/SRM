{
  "nbformat": 4,
  "nbformat_minor": 0,
  "metadata": {
    "colab": {
      "provenance": [],
      "authorship_tag": "ABX9TyOL6CPCZi8mECIK/m5V2zlS",
      "include_colab_link": true
    },
    "kernelspec": {
      "name": "python3",
      "display_name": "Python 3"
    },
    "language_info": {
      "name": "python"
    }
  },
  "cells": [
    {
      "cell_type": "markdown",
      "metadata": {
        "id": "view-in-github",
        "colab_type": "text"
      },
      "source": [
        "<a href=\"https://colab.research.google.com/github/PRANAV051105/SRM/blob/main/Experiment5.ipynb\" target=\"_parent\"><img src=\"https://colab.research.google.com/assets/colab-badge.svg\" alt=\"Open In Colab\"/></a>"
      ]
    },
    {
      "cell_type": "code",
      "source": [
        "import pandas as pd\n",
        "from sklearn.cluster import KMeans\n",
        "from sklearn.datasets import load_iris\n",
        "from sklearn.metrics import confusion_matrix ,accuracy_score\n",
        "import numpy as np\n",
        "from scipy.optimize import linear_sum_assignment"
      ],
      "metadata": {
        "id": "PVAwc6j6g1NJ"
      },
      "execution_count": null,
      "outputs": []
    },
    {
      "cell_type": "code",
      "source": [
        "iris=load_iris()\n",
        "X=iris.data\n",
        "Y=iris.target"
      ],
      "metadata": {
        "id": "dlW1RTe7i_oM"
      },
      "execution_count": null,
      "outputs": []
    },
    {
      "cell_type": "code",
      "source": [
        "kmeans=KMeans(n_clusters=3,random_state=42,n_init=\"auto\")\n",
        "y_means=kmeans.fit_predict(X)\n",
        "df=pd.DataFrame(X,columns=iris.feature_names)\n",
        "df['Actual'] = y\n",
        "df['Cluster'] = y_kmeans"
      ],
      "metadata": {
        "id": "wLWxZboxjZze"
      },
      "execution_count": null,
      "outputs": []
    },
    {
      "cell_type": "code",
      "source": [
        "print(\"Cluster Centers:\\n\",pd.DataFrame(kmeans.cluster_centers_,columns=iris.feature_names))\n",
        "print(\"\\nSample clustered \\n\",df.head())"
      ],
      "metadata": {
        "colab": {
          "base_uri": "https://localhost:8080/"
        },
        "id": "fex8Rt68kurc",
        "outputId": "9f885481-eee9-46a0-999b-ad1bc0520791"
      },
      "execution_count": null,
      "outputs": [
        {
          "output_type": "stream",
          "name": "stdout",
          "text": [
            "Cluster Centers:\n",
            "    sepal length (cm)  sepal width (cm)  petal length (cm)  petal width (cm)\n",
            "0           6.853846          3.076923           5.715385          2.053846\n",
            "1           5.006000          3.428000           1.462000          0.246000\n",
            "2           5.883607          2.740984           4.388525          1.434426\n",
            "\n",
            "Sample clustered \n",
            "    sepal length (cm)  sepal width (cm)  petal length (cm)  petal width (cm)  \\\n",
            "0                5.1               3.5                1.4               0.2   \n",
            "1                4.9               3.0                1.4               0.2   \n",
            "2                4.7               3.2                1.3               0.2   \n",
            "3                4.6               3.1                1.5               0.2   \n",
            "4                5.0               3.6                1.4               0.2   \n",
            "\n",
            "   Actual  Cluster  \n",
            "0       0        1  \n",
            "1       0        1  \n",
            "2       0        1  \n",
            "3       0        1  \n",
            "4       0        1  \n"
          ]
        }
      ]
    },
    {
      "cell_type": "code",
      "source": [
        "cm = confusion_matrix(y,y_means)\n",
        "print(\"\\nConfusion Matrix:\\n\",cm)\n",
        "row_ind, col_ind = linear_sum_assignment(cm.max() - cm)\n",
        "aligned_labels = np.zeros_like(y_means)\n",
        "for true_label, cluster_label in zip(row_ind, col_ind):aligned_labels[y_means == cluster_label] = true_label\n",
        "aligned_cm = confusion_matrix(y, aligned_labels)\n",
        "print(\"\\nAligned Confusion Matrix:\\n\", aligned_cm)\n",
        "print(\"\\nAccuracy:\", accuracy_score(y, aligned_labels))"
      ],
      "metadata": {
        "colab": {
          "base_uri": "https://localhost:8080/"
        },
        "id": "-erDnhaXlpKC",
        "outputId": "51fd2e23-c3ca-4c80-b264-56000d272bbe"
      },
      "execution_count": null,
      "outputs": [
        {
          "output_type": "stream",
          "name": "stdout",
          "text": [
            "\n",
            "Confusion Matrix:\n",
            " [[ 0 50  0]\n",
            " [ 3  0 47]\n",
            " [36  0 14]]\n",
            "\n",
            "Aligned Confusion Matrix:\n",
            " [[50  0  0]\n",
            " [ 0 47  3]\n",
            " [ 0 14 36]]\n",
            "\n",
            "Accuracy: 0.8866666666666667\n"
          ]
        }
      ]
    },
    {
      "cell_type": "code",
      "source": [],
      "metadata": {
        "id": "EUE3odm5nNku"
      },
      "execution_count": null,
      "outputs": []
    }
  ]
}