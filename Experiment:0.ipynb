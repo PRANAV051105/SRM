{
  "nbformat": 4,
  "nbformat_minor": 0,
  "metadata": {
    "colab": {
      "provenance": [],
      "authorship_tag": "ABX9TyMd4q4p+tAWF523OQfh5GMh",
      "include_colab_link": true
    },
    "kernelspec": {
      "name": "python3",
      "display_name": "Python 3"
    },
    "language_info": {
      "name": "python"
    }
  },
  "cells": [
    {
      "cell_type": "markdown",
      "metadata": {
        "id": "view-in-github",
        "colab_type": "text"
      },
      "source": [
        "<a href=\"https://colab.research.google.com/github/PRANAV051105/SRM/blob/main/Experiment%3A0.ipynb\" target=\"_parent\"><img src=\"https://colab.research.google.com/assets/colab-badge.svg\" alt=\"Open In Colab\"/></a>"
      ]
    },
    {
      "cell_type": "code",
      "source": [
        "x= int(input(\"enter a number\"))\n",
        "y= int(input(\"enter a number\"))\n",
        "sum = x+y\n",
        "print(\"sum of the two numbers:\",sum)"
      ],
      "metadata": {
        "colab": {
          "base_uri": "https://localhost:8080/"
        },
        "id": "S7GFhgSfHO6u",
        "outputId": "f47b057a-2da8-470d-ff2e-2b4b3c963fc2"
      },
      "execution_count": 1,
      "outputs": [
        {
          "output_type": "stream",
          "name": "stdout",
          "text": [
            "enter a number12\n",
            "enter a number18\n",
            "sum of the two numbers: 30\n"
          ]
        }
      ]
    },
    {
      "cell_type": "code",
      "source": [
        "a= int(input(\"Enter a number\"))\n",
        "if a%2==0:\n",
        "  print(\" number is even\")\n",
        "else:\n",
        "  print(\" number is odd\")"
      ],
      "metadata": {
        "colab": {
          "base_uri": "https://localhost:8080/"
        },
        "id": "NtM2OUyZJshd",
        "outputId": "0e1690b1-e284-4ac3-d1f7-eb63793df273"
      },
      "execution_count": 2,
      "outputs": [
        {
          "output_type": "stream",
          "name": "stdout",
          "text": [
            "Enter a number4\n",
            " number is even\n"
          ]
        }
      ]
    },
    {
      "cell_type": "code",
      "source": [
        "a=int(input(\"enter the number\"))\n",
        "b=0\n",
        "for i in range(2,a):\n",
        "      if  a%i==0:\n",
        "          b+=1\n",
        "          break\n",
        "if (b==0):\n",
        "    print(\"Prime number\")\n",
        "else:\n",
        "    print(\"Not a prime number\")\n"
      ],
      "metadata": {
        "colab": {
          "base_uri": "https://localhost:8080/"
        },
        "id": "SfJZJlo5MBaj",
        "outputId": "ee234363-8d7b-4945-8d87-3cdff7a2fec0"
      },
      "execution_count": 21,
      "outputs": [
        {
          "output_type": "stream",
          "name": "stdout",
          "text": [
            "enter the number12\n",
            "Not a prime number\n"
          ]
        }
      ]
    },
    {
      "cell_type": "code",
      "source": [
        "a=int (input(\"Enter a number\"))\n",
        "b=int (input(\"Enter a number\"))\n",
        "c=int (input(\"Enter a number\"))\n",
        "d=int (input(\"Enter a number\"))\n",
        "l=[a,b,c,d]\n",
        "print(max(l))"
      ],
      "metadata": {
        "colab": {
          "base_uri": "https://localhost:8080/"
        },
        "id": "VuFLsjC7M09C",
        "outputId": "b09ba2af-8296-4a2e-cbaa-108285e36a5b"
      },
      "execution_count": 43,
      "outputs": [
        {
          "output_type": "stream",
          "name": "stdout",
          "text": [
            "Enter a number1\n",
            "Enter a number12\n",
            "Enter a number7\n",
            "Enter a number19\n",
            "19\n"
          ]
        }
      ]
    },
    {
      "cell_type": "code",
      "source": [
        "a=int(input(\"enter a number\"))\n",
        "b=1\n",
        "for i in range (1,a+1):\n",
        "         b*=i\n",
        "print(b)\n"
      ],
      "metadata": {
        "colab": {
          "base_uri": "https://localhost:8080/"
        },
        "id": "bp0XiL5ZOJvC",
        "outputId": "332b94cb-7a9c-4764-a777-56090435fc66"
      },
      "execution_count": 51,
      "outputs": [
        {
          "output_type": "stream",
          "name": "stdout",
          "text": [
            "enter a number5\n",
            "120\n"
          ]
        }
      ]
    },
    {
      "cell_type": "code",
      "source": [
        "a=int(input(\"enter a number\"))\n",
        "b=str(a)\n",
        "c=b[::-1]\n",
        "print(int(c))\n"
      ],
      "metadata": {
        "colab": {
          "base_uri": "https://localhost:8080/"
        },
        "id": "CByWWlHHPFA9",
        "outputId": "2953389a-a983-40dc-e22a-8f590fe223e3"
      },
      "execution_count": 53,
      "outputs": [
        {
          "output_type": "stream",
          "name": "stdout",
          "text": [
            "enter a number1234\n",
            "4321\n"
          ]
        }
      ]
    },
    {
      "cell_type": "code",
      "source": [
        "a=input(\"enter a sequence\")\n",
        "b=a[::-1]\n",
        "if b==a:\n",
        "    print(\"palindrome\")\n",
        "else:\n",
        "    print(\"not palindrome\")"
      ],
      "metadata": {
        "colab": {
          "base_uri": "https://localhost:8080/"
        },
        "id": "Ydqilji7PhqB",
        "outputId": "3054cea1-2c96-483b-d8ee-12f72a5dff4b"
      },
      "execution_count": 57,
      "outputs": [
        {
          "output_type": "stream",
          "name": "stdout",
          "text": [
            "enter a sequenceRACECAR\n",
            "palindrome\n"
          ]
        }
      ]
    },
    {
      "cell_type": "code",
      "source": [
        "a=int(input(\"ENTER A NUMBER\"))\n",
        "q=0\n",
        "b=str(a)\n",
        "for i in range (len(b)):\n",
        " c=0\n",
        " c=a%10\n",
        " a=a//10\n",
        " q+=c\n",
        "print(q)"
      ],
      "metadata": {
        "colab": {
          "base_uri": "https://localhost:8080/"
        },
        "id": "PBhCC1lEQFy2",
        "outputId": "da3735bd-1cf2-4bea-9bf6-4d330159ccd1"
      },
      "execution_count": 65,
      "outputs": [
        {
          "output_type": "stream",
          "name": "stdout",
          "text": [
            "ENTER A NUMBER56\n",
            "11\n"
          ]
        }
      ]
    },
    {
      "cell_type": "code",
      "source": [
        "a=int(input(\"table value\"))\n",
        "b=int(input(\"enter no.of.multi\"))\n",
        "for i in range(1,b+1):\n",
        "   print(a,\"*\",i,\"=\",a+i)"
      ],
      "metadata": {
        "colab": {
          "base_uri": "https://localhost:8080/"
        },
        "id": "D-EZE16oRFxO",
        "outputId": "57283906-4d6f-4839-c57b-da56f53dc9a4"
      },
      "execution_count": 70,
      "outputs": [
        {
          "output_type": "stream",
          "name": "stdout",
          "text": [
            "table value10\n",
            "enter no.of.multi2\n",
            "10 * 1 = 11\n",
            "10 * 2 = 12\n"
          ]
        }
      ]
    },
    {
      "cell_type": "code",
      "source": [
        "a=int(input(\"enter a number\"))\n",
        "b=int(input(\"enter a number\"))\n",
        "d=input(\"enter a symbol\")\n",
        "match(d):\n",
        "  case \"+\":\n",
        "    print(a+b)\n",
        "  case \"-\":\n",
        "    print(a-b)\n",
        "  case \"*\":\n",
        "    print(a*b)\n",
        "  case \"/\":\n",
        "    print(a/b)"
      ],
      "metadata": {
        "colab": {
          "base_uri": "https://localhost:8080/"
        },
        "id": "Kcq7BdjgR8G-",
        "outputId": "199b5645-e57a-4187-b702-2e298f829db6"
      },
      "execution_count": 77,
      "outputs": [
        {
          "output_type": "stream",
          "name": "stdout",
          "text": [
            "enter a number12\n",
            "enter a number23\n",
            "enter a symbol+\n",
            "35\n"
          ]
        }
      ]
    },
    {
      "cell_type": "code",
      "source": [
        "for i in range(6):\n",
        " print(i* \"*\")\n",
        " print(\"\\n\")"
      ],
      "metadata": {
        "colab": {
          "base_uri": "https://localhost:8080/"
        },
        "id": "eZ0a27GdTUrL",
        "outputId": "ed45a046-0d3a-45d5-85a6-d2ee5664ce32"
      },
      "execution_count": 82,
      "outputs": [
        {
          "output_type": "stream",
          "name": "stdout",
          "text": [
            "\n",
            "\n",
            "\n",
            "*\n",
            "\n",
            "\n",
            "**\n",
            "\n",
            "\n",
            "***\n",
            "\n",
            "\n",
            "****\n",
            "\n",
            "\n",
            "*****\n",
            "\n",
            "\n"
          ]
        }
      ]
    }
  ]
}